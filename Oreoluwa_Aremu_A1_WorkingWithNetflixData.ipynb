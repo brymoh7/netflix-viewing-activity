{
 "cells": [
  {
   "cell_type": "code",
   "execution_count": 58,
   "id": "9a4e00ed",
   "metadata": {},
   "outputs": [],
   "source": [
    "import pandas as pd"
   ]
  },
  {
   "cell_type": "code",
   "execution_count": 59,
   "id": "e1676ed9",
   "metadata": {},
   "outputs": [],
   "source": [
    "import numpy as np"
   ]
  },
  {
   "cell_type": "code",
   "execution_count": 60,
   "id": "8013c4a4",
   "metadata": {},
   "outputs": [],
   "source": [
    "df = pd.read_csv('C:/Users/Ore/Downloads/NetflixViewingHistory.csv')"
   ]
  },
  {
   "cell_type": "code",
   "execution_count": 64,
   "id": "44ea3f1b",
   "metadata": {},
   "outputs": [
    {
     "name": "stdout",
     "output_type": "stream",
     "text": [
      "1972\n"
     ]
    }
   ],
   "source": [
    "#1. Rows\n",
    "number_of_rows = len(df.index)\n",
    "print (number_of_rows)"
   ]
  },
  {
   "cell_type": "code",
   "execution_count": 62,
   "id": "46a53fcf",
   "metadata": {},
   "outputs": [
    {
     "name": "stdout",
     "output_type": "stream",
     "text": [
      "2\n"
     ]
    }
   ],
   "source": [
    "#2. Columns\n",
    "number_of_columns = len(df.columns)\n",
    "print (number_of_columns)"
   ]
  },
  {
   "cell_type": "code",
   "execution_count": 63,
   "id": "91f5e27e",
   "metadata": {},
   "outputs": [
    {
     "name": "stdout",
     "output_type": "stream",
     "text": [
      "Russian Doll: Season 2: Station to Station\n"
     ]
    }
   ],
   "source": [
    "#3 First Column name\n",
    "first_column = df.iloc[0,0]\n",
    "print (first_column)"
   ]
  },
  {
   "cell_type": "code",
   "execution_count": 19,
   "id": "0dc1ef5b",
   "metadata": {},
   "outputs": [
    {
     "name": "stdout",
     "output_type": "stream",
     "text": [
      "Russian Doll: Season 2: Brain Drain\n"
     ]
    }
   ],
   "source": [
    "#4 Second Column name\n",
    "second_column = df.iloc[1,0]\n",
    "print (second_column)"
   ]
  },
  {
   "cell_type": "code",
   "execution_count": 24,
   "id": "de17b609",
   "metadata": {},
   "outputs": [
    {
     "data": {
      "text/plain": [
       "10"
      ]
     },
     "execution_count": 24,
     "metadata": {},
     "output_type": "execute_result"
    }
   ],
   "source": [
    "#5 Number of times Designated Survivor was watched\n",
    "df.Title.str.count('Designated Survivor').sum()"
   ]
  },
  {
   "cell_type": "code",
   "execution_count": 46,
   "id": "58958dab",
   "metadata": {},
   "outputs": [
    {
     "data": {
      "text/plain": [
       "'1/8/21'"
      ]
     },
     "execution_count": 46,
     "metadata": {},
     "output_type": "execute_result"
    }
   ],
   "source": [
    "#6 Starting Date of Bridgerton \n",
    "df.loc[['Bridgerton' in title for title in df['Title']],:].sort_values (\"Date\").iloc[0,1]"
   ]
  },
  {
   "cell_type": "code",
   "execution_count": 51,
   "id": "076f07d1",
   "metadata": {},
   "outputs": [
    {
     "data": {
      "text/plain": [
       "'Bridgerton: Season 1: An Affair of Honor'"
      ]
     },
     "execution_count": 51,
     "metadata": {},
     "output_type": "execute_result"
    }
   ],
   "source": [
    "#7 Title of the first episode of watching Bridgerton\n",
    "df.loc[['Bridgerton' in title for title in df['Title']],:].sort_values (\"Date\").iloc[0,0]"
   ]
  },
  {
   "cell_type": "code",
   "execution_count": 54,
   "id": "a2b40f1f",
   "metadata": {},
   "outputs": [
    {
     "data": {
      "text/plain": [
       "'4/4/22'"
      ]
     },
     "execution_count": 54,
     "metadata": {},
     "output_type": "execute_result"
    }
   ],
   "source": [
    "#8 Last Date of watching Bridgerton \n",
    "df.loc[['Bridgerton' in title for title in df['Title']],:].sort_values (\"Date\", ascending = False).iloc[0,1]"
   ]
  },
  {
   "cell_type": "code",
   "execution_count": 57,
   "id": "36e8a113",
   "metadata": {},
   "outputs": [
    {
     "data": {
      "text/plain": [
       "'Bridgerton: Season 2: The Viscount Who Loved Me'"
      ]
     },
     "execution_count": 57,
     "metadata": {},
     "output_type": "execute_result"
    }
   ],
   "source": [
    "#9 Title of the last episode of watching Bridgerton \n",
    "df.loc[['Bridgerton' in title for title in df['Title']],:].sort_values (\"Date\", ascending = False).iloc[0,0]"
   ]
  },
  {
   "cell_type": "code",
   "execution_count": null,
   "id": "719931e6",
   "metadata": {},
   "outputs": [],
   "source": []
  }
 ],
 "metadata": {
  "kernelspec": {
   "display_name": "Python 3",
   "language": "python",
   "name": "python3"
  },
  "language_info": {
   "codemirror_mode": {
    "name": "ipython",
    "version": 3
   },
   "file_extension": ".py",
   "mimetype": "text/x-python",
   "name": "python",
   "nbconvert_exporter": "python",
   "pygments_lexer": "ipython3",
   "version": "3.8.8"
  }
 },
 "nbformat": 4,
 "nbformat_minor": 5
}
