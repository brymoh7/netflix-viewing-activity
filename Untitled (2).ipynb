{
 "cells": [
  {
   "cell_type": "code",
   "execution_count": 1,
   "id": "1f258b10-d694-4e7d-b838-95b5ed4a7775",
   "metadata": {},
   "outputs": [],
   "source": [
    "import pandas as pd"
   ]
  },
  {
   "cell_type": "code",
   "execution_count": 4,
   "id": "b70e0dc3-1548-44fa-a655-6bbc2454cee8",
   "metadata": {},
   "outputs": [],
   "source": [
    "df = pd.read_csv('NetflixViewingHistory.csv')"
   ]
  },
  {
   "cell_type": "code",
   "execution_count": 5,
   "id": "59475b3a-b142-415f-8fe3-b64351685b8c",
   "metadata": {},
   "outputs": [
    {
     "data": {
      "text/plain": [
       "1972"
      ]
     },
     "execution_count": 5,
     "metadata": {},
     "output_type": "execute_result"
    }
   ],
   "source": [
    "len(df.index)"
   ]
  },
  {
   "cell_type": "code",
   "execution_count": 6,
   "id": "e62935d5-243d-4965-836a-89efe412acfd",
   "metadata": {},
   "outputs": [
    {
     "data": {
      "text/plain": [
       "2"
      ]
     },
     "execution_count": 6,
     "metadata": {},
     "output_type": "execute_result"
    }
   ],
   "source": [
    "df.shape[1]"
   ]
  },
  {
   "cell_type": "code",
   "execution_count": 7,
   "id": "6c7c4ba5-f647-434f-8321-ff42e9542ecc",
   "metadata": {},
   "outputs": [
    {
     "data": {
      "text/plain": [
       "'Title'"
      ]
     },
     "execution_count": 7,
     "metadata": {},
     "output_type": "execute_result"
    }
   ],
   "source": [
    "df.columns[0]"
   ]
  },
  {
   "cell_type": "code",
   "execution_count": 8,
   "id": "ffbabdf7-5445-4a8a-8b21-5d80dedb6589",
   "metadata": {},
   "outputs": [
    {
     "data": {
      "text/plain": [
       "'Date'"
      ]
     },
     "execution_count": 8,
     "metadata": {},
     "output_type": "execute_result"
    }
   ],
   "source": [
    "df.columns[1]"
   ]
  },
  {
   "cell_type": "code",
   "execution_count": 13,
   "id": "5589941a-4c51-4c08-b17a-27084af82992",
   "metadata": {},
   "outputs": [
    {
     "data": {
      "text/plain": [
       "10"
      ]
     },
     "execution_count": 13,
     "metadata": {},
     "output_type": "execute_result"
    }
   ],
   "source": [
    "len(df[df['Title'].str.match('Designated Survivor')])"
   ]
  },
  {
   "cell_type": "code",
   "execution_count": 18,
   "id": "6f41b63a-886f-4c99-90f3-fbe9316a2de7",
   "metadata": {},
   "outputs": [
    {
     "data": {
      "text/plain": [
       "'1/8/21'"
      ]
     },
     "execution_count": 18,
     "metadata": {},
     "output_type": "execute_result"
    }
   ],
   "source": [
    "f = df[df['Title'].str.match('Bridgerton')]\n",
    "f.iloc[-1]['Date']"
   ]
  },
  {
   "cell_type": "code",
   "execution_count": 24,
   "id": "3dacbec3-3b67-40ec-91c0-2cd730e9200e",
   "metadata": {},
   "outputs": [
    {
     "name": "stdout",
     "output_type": "stream",
     "text": [
      "Diamond of the First Water\n"
     ]
    }
   ],
   "source": [
    "title = f.iloc[-1]['Title']\n",
    "title = title.split(\": \")\n",
    "print(title[2])"
   ]
  },
  {
   "cell_type": "code",
   "execution_count": 20,
   "id": "2016b442-e94d-4c63-9b28-874965db3cfb",
   "metadata": {},
   "outputs": [
    {
     "data": {
      "text/plain": [
       "'4/4/22'"
      ]
     },
     "execution_count": 20,
     "metadata": {},
     "output_type": "execute_result"
    }
   ],
   "source": [
    "f.iloc[0]['Date']"
   ]
  },
  {
   "cell_type": "code",
   "execution_count": 25,
   "id": "17174320-22c1-4e78-9daf-978fe6a98c80",
   "metadata": {},
   "outputs": [
    {
     "name": "stdout",
     "output_type": "stream",
     "text": [
      "The Viscount Who Loved Me\n"
     ]
    }
   ],
   "source": [
    "title = f.iloc[0]['Title']\n",
    "title = title.split(\": \")\n",
    "print(title[2])"
   ]
  },
  {
   "cell_type": "code",
   "execution_count": null,
   "id": "14580cd7-36ec-4b9b-a802-633e6e95367f",
   "metadata": {},
   "outputs": [],
   "source": []
  }
 ],
 "metadata": {
  "kernelspec": {
   "display_name": "Python 3 (ipykernel)",
   "language": "python",
   "name": "python3"
  },
  "language_info": {
   "codemirror_mode": {
    "name": "ipython",
    "version": 3
   },
   "file_extension": ".py",
   "mimetype": "text/x-python",
   "name": "python",
   "nbconvert_exporter": "python",
   "pygments_lexer": "ipython3",
   "version": "3.10.4"
  }
 },
 "nbformat": 4,
 "nbformat_minor": 5
}
